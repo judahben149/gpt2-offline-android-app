{
  "cells": [
    {
      "cell_type": "markdown",
      "metadata": {
        "id": "view-in-github",
        "colab_type": "text"
      },
      "source": [
        "<a href=\"https://colab.research.google.com/github/mcdaqc/gpt2-offline-android-app/blob/master/FIne_Tuning_a_GPT2_de_KerasNLP_para_Generaci%C3%B3n_de_Texto.ipynb\" target=\"_parent\"><img src=\"https://colab.research.google.com/assets/colab-badge.svg\" alt=\"Open In Colab\"/></a>"
      ]
    },
    {
      "cell_type": "markdown",
      "metadata": {
        "id": "inev2z-Zzb7w"
      },
      "source": [
        "# Generacion de texto con GPT2 de KerasNLP\n",
        "\n",
        "**Author:** David Alonso Quispe Castillo<br>\n",
        "**Date created:** 14/07/2023<br>\n",
        "**Last modified:** 14/07/2023<br>\n",
        "**Objetivo:** Usar el modelo GPT-2 de KerasNLP y los generadores de texto (samplers) para la generación de texto."
      ]
    },
    {
      "cell_type": "markdown",
      "metadata": {
        "id": "lniu_DmLzb70"
      },
      "source": [
        "En este proyecto, basado en el trabajo previo de [Chen Qian](https://colab.research.google.com/github/keras-team/keras-io/blob/master/examples/generative/ipynb/gpt2_text_generation_with_kerasnlp.ipynb#scrollTo=76gl9HSIF-uB), utilizaremos [KerasNLP](https://keras.io/keras_nlp/) para cargar un modelo de lenguaje grande  (LLM) pre-entrenado - el modelo [GPT-2 ](https://openai.com/research/better-language-models), desarrollado por OpenAI. Aprovecharemos las capacidades de generación de texto de este modelo para crear texto basado en una entrada proporcionada por el usuario. Además, se demostrará cómo GPT-2 puede adaptarse rápidamente a otros idiomas, como el español."
      ]
    },
    {
      "cell_type": "markdown",
      "metadata": {
        "id": "VWjhy_btzb71"
      },
      "source": [
        "##  Antes de comenzar\n",
        "\n",
        "Colab ofrece diferentes tipos de entornos de ejecución. Asegúrate de ir a **Entorno de ejecución -> Cambiar tipo de entorno de ejecución** y seleccionar el entorno de ejecución con aceleración de hardware GPU (que debería tener >12 GB de RAM del host y ~15 GB de RAM de la GPU) ya que ajustaremos finamente el modelo GPT-2. Ejecutar este tutorial en un entorno de ejecución de CPU tomaría horas."
      ]
    },
    {
      "cell_type": "markdown",
      "metadata": {
        "id": "OO3GmaPtzb71"
      },
      "source": [
        "## Instalamos KerasNLP e Importamos Dependencias"
      ]
    },
    {
      "cell_type": "code",
      "execution_count": null,
      "metadata": {
        "id": "mnDHnN1Yzb72",
        "outputId": "3227b8c7-459e-4976-83a6-5b1f4d4d8d41",
        "colab": {
          "base_uri": "https://localhost:8080/"
        }
      },
      "outputs": [
        {
          "output_type": "stream",
          "name": "stdout",
          "text": [
            "\u001b[?25l     \u001b[90m━━━━━━━━━━━━━━━━━━━━━━━━━━━━━━━━━━━━━━━━\u001b[0m \u001b[32m0.0/576.5 kB\u001b[0m \u001b[31m?\u001b[0m eta \u001b[36m-:--:--\u001b[0m\r\u001b[2K     \u001b[91m━━━━━━━━━━━━━━━━━━━━━━━━\u001b[0m\u001b[90m╺\u001b[0m\u001b[90m━━━━━━━━━━━━━\u001b[0m \u001b[32m368.6/576.5 kB\u001b[0m \u001b[31m11.0 MB/s\u001b[0m eta \u001b[36m0:00:01\u001b[0m\r\u001b[2K     \u001b[90m━━━━━━━━━━━━━━━━━━━━━━━━━━━━━━━━━━━━━━\u001b[0m \u001b[32m576.5/576.5 kB\u001b[0m \u001b[31m11.7 MB/s\u001b[0m eta \u001b[36m0:00:00\u001b[0m\n",
            "\u001b[2K     \u001b[90m━━━━━━━━━━━━━━━━━━━━━━━━━━━━━━━━━━━━━━\u001b[0m \u001b[32m728.0/728.0 kB\u001b[0m \u001b[31m38.2 MB/s\u001b[0m eta \u001b[36m0:00:00\u001b[0m\n",
            "\u001b[2K     \u001b[90m━━━━━━━━━━━━━━━━━━━━━━━━━━━━━━━━━━━━━━━━\u001b[0m \u001b[32m6.5/6.5 MB\u001b[0m \u001b[31m54.7 MB/s\u001b[0m eta \u001b[36m0:00:00\u001b[0m\n",
            "\u001b[2K     \u001b[90m━━━━━━━━━━━━━━━━━━━━━━━━━━━━━━━━━━━━━━━\u001b[0m \u001b[32m524.1/524.1 MB\u001b[0m \u001b[31m3.1 MB/s\u001b[0m eta \u001b[36m0:00:00\u001b[0m\n",
            "\u001b[2K     \u001b[90m━━━━━━━━━━━━━━━━━━━━━━━━━━━━━━━━━━━━━━━━\u001b[0m \u001b[32m1.7/1.7 MB\u001b[0m \u001b[31m81.3 MB/s\u001b[0m eta \u001b[36m0:00:00\u001b[0m\n",
            "\u001b[2K     \u001b[90m━━━━━━━━━━━━━━━━━━━━━━━━━━━━━━━━━━━━━━━━\u001b[0m \u001b[32m5.6/5.6 MB\u001b[0m \u001b[31m96.8 MB/s\u001b[0m eta \u001b[36m0:00:00\u001b[0m\n",
            "\u001b[2K     \u001b[90m━━━━━━━━━━━━━━━━━━━━━━━━━━━━━━━━━━━━━━\u001b[0m \u001b[32m440.8/440.8 kB\u001b[0m \u001b[31m47.1 MB/s\u001b[0m eta \u001b[36m0:00:00\u001b[0m\n",
            "\u001b[?25h"
          ]
        }
      ],
      "source": [
        "!pip install -q keras-nlp"
      ]
    },
    {
      "cell_type": "code",
      "execution_count": null,
      "metadata": {
        "id": "yWKcA4SHzb73",
        "colab": {
          "base_uri": "https://localhost:8080/"
        },
        "outputId": "6e28277b-fde6-484e-d014-470cd4e3ac30"
      },
      "outputs": [
        {
          "output_type": "stream",
          "name": "stdout",
          "text": [
            "Using TensorFlow backend\n"
          ]
        }
      ],
      "source": [
        "import keras_nlp\n",
        "import tensorflow as tf\n",
        "from tensorflow import keras\n",
        "import time"
      ]
    },
    {
      "cell_type": "markdown",
      "metadata": {
        "id": "Jz1PYPIczb74"
      },
      "source": [
        "## Introducción a los Modelos de Lenguaje Generativos de Gran Escala (LLMs)\n",
        "\n",
        "Los Modelos de Lenguaje Grande (LLMs, por sus siglas en inglés) son un tipo de modelos de aprendizaje automático que se entrenan en un gran corpus de datos de texto para generar resultados en varias tareas de Procesamiento del Lenguaje Natural (NLP, por sus siglas en inglés), como generación de texto, respuesta a preguntas o traducción automática.\n",
        "\n",
        "Los LLMs generativos se basan típicamente en redes neuronales de aprendizaje profundo, como la arquitectura [Transformer](https://arxiv.org/abs/1706.03762) inventada por investigadores de Google en 2017, y se entrenan con grandes cantidades de datos de texto, a menudo involucrando miles de millones de palabras. Estos modelos, como [LaMDA](https://blog.google/technology/ai/lamda/) y [PaLM](https://ai.googleblog.com/2022/04/pathways-language-model-palm-scaling-to.html) de Google, se entrenan con conjuntos de datos extensos provenientes de diversas fuentes de datos, lo que les permite generar resultados para múltiples tareas. El núcleo de los LLMs generativos consiste en predecir la siguiente palabra en una oración, a menudo conocido como **Preentrenamiento LM Causal**. De esta manera, los LLMs pueden generar texto coherente basado en las indicaciones del usuario. Para obtener una discusión más pedagógica sobre los modelos de lenguaje, puedes consultar la [clase de Stanford CS324 LLM](https://stanford-cs324.github.io/winter2022/lectures/introduction/)."
      ]
    },
    {
      "cell_type": "markdown",
      "metadata": {
        "id": "wh2N8PNzzb74"
      },
      "source": [
        "## Introducción a KerasNLP\n",
        "\n",
        "La construcción y entrenamiento de Modelos de Lenguaje Grande (LLMs) desde cero son complejos y costosos. Afortunadamente, existen LLMs pre-entrenados disponibles para su uso inmediato. [KerasNLP](https://keras.io/keras_nlp/) proporciona una amplia variedad de puntos de control pre-entrenados que te permiten experimentar con modelos de última generación sin necesidad de entrenarlos desde cero.\n",
        "\n",
        "KerasNLP es una biblioteca de procesamiento del lenguaje natural que brinda soporte a los usuarios a lo largo de todo su ciclo de desarrollo. KerasNLP ofrece tanto modelos pre-entrenados como componentes modulares, lo que permite a los desarrolladores reutilizar fácilmente los modelos pre-entrenados o construir sus propios LLM.\n",
        "\n",
        "En pocas palabras, para los LLMs generativos, KerasNLP ofrece:\n",
        "\n",
        "- Modelos pre-entrenados con el método `generate()`, por ejemplo en, `keras_nlp.models.GPT2CausalLM` y `keras_nlp.models.OPTCausalLM`.\n",
        "- Clase de muestreo (Sampler) que implementa algoritmos de generación como Top-K, Beam y búsqueda contrastiva. Estos samplers se pueden utilizar para generar texto con modelos personalizados.\n",
        "\n"
      ]
    },
    {
      "cell_type": "markdown",
      "metadata": {
        "id": "YieMpyQEzb75"
      },
      "source": [
        "## Cargamos un modelo pre-entrenado de GPT-2 y generamos texto\n",
        "\n",
        "KerasNLP proporciona varios modelos pre-entrenados, como [Google\n",
        "Bert](https://ai.googleblog.com/2018/11/open-sourcing-bert-state-of-art-pre.html)\n",
        "y [GPT-2](https://openai.com/research/better-language-models). Puedes ver\n",
        "la lista de modelos disponibles en el [repositorio de KerasNLP](https://github.com/keras-team/keras-nlp/tree/master/keras_nlp/models).\n",
        "\n",
        "Es muy fácil cargar el modelo GPT-2, como puedes ver a continuación:"
      ]
    },
    {
      "cell_type": "code",
      "execution_count": null,
      "metadata": {
        "id": "_5HgQlt-zb75"
      },
      "outputs": [],
      "source": [
        "# Para acelerar el entrenamiento y la generación, utilizamos un preprocesador\n",
        "# de longitud 128 en lugar de la longitud completa de 1024.\n",
        "\n",
        "preprocessor = keras_nlp.models.GPT2CausalLMPreprocessor.from_preset(\n",
        "    \"gpt2_base_en\",\n",
        "    sequence_length=128,\n",
        ")\n",
        "gpt2_lm = keras_nlp.models.GPT2CausalLM.from_preset(\n",
        "    \"gpt2_base_en\", preprocessor=preprocessor\n",
        ")"
      ]
    },
    {
      "cell_type": "markdown",
      "metadata": {
        "id": "ki5OKmgRzb76"
      },
      "source": [
        "Una vez que el modelo está cargado, puedes usarlo para generar texto de inmediato. Ejecuta las celdas a continuación para probarlo. Es tan simple como llamar a la función generate() una sola vez."
      ]
    },
    {
      "cell_type": "code",
      "execution_count": null,
      "metadata": {
        "id": "Khn7wneEzb76",
        "outputId": "04493187-67ac-425b-81bf-342375ea857f",
        "colab": {
          "base_uri": "https://localhost:8080/"
        }
      },
      "outputs": [
        {
          "output_type": "stream",
          "name": "stdout",
          "text": [
            "\n",
            "GPT-2 output:\n",
            "My trip to Yosemite was a success. It's been my passion since I was a kid and I love Yosemite.\n",
            "\n",
            "The first day was great because I was able to see a few things in Yosemite.\n",
            "\n",
            "I got to take a few photos of the beautiful landscape. The first day is great because I was able to take a few photos of the beautiful landscape.\n",
            "\n",
            "I had to go to a different place to take a few pictures.\n",
            "\n",
            "I had to go to a different place to take a few pictures.\n",
            "\n",
            "I had to go to a different place to take a few pictures.\n",
            "\n",
            "I didn't get to spend time at all in Yosemite.\n",
            "\n",
            "It was so cold out and the weather wasn't that great.\n",
            "\n",
            "I had to go to another place to get a little bit of sun.\n",
            "\n",
            "There was a lot of rain in the area, but I was so excited about it.\n",
            "\n",
            "I got to see a few of the\n",
            "TOTAL TIME ELAPSED: 27.92s\n"
          ]
        }
      ],
      "source": [
        "start = time.time()\n",
        "\n",
        "output = gpt2_lm.generate(\"My trip to Yosemite was\", max_length=200)\n",
        "print(\"\\nGPT-2 output:\")\n",
        "print(output)\n",
        "\n",
        "end = time.time()\n",
        "print(f\"TOTAL TIME ELAPSED: {end - start:.2f}s\")"
      ]
    },
    {
      "cell_type": "markdown",
      "metadata": {
        "id": "hUhMT575zb76"
      },
      "source": [
        "Intenta con otro ejemplo:"
      ]
    },
    {
      "cell_type": "code",
      "execution_count": null,
      "metadata": {
        "id": "AlORlhDwzb76",
        "outputId": "3c2a215a-dee5-4bba-a613-222c49ee5947",
        "colab": {
          "base_uri": "https://localhost:8080/"
        }
      },
      "outputs": [
        {
          "output_type": "stream",
          "name": "stdout",
          "text": [
            "\n",
            "GPT-2 output:\n",
            "That Italian restaurant is a classic. It has the most beautiful and most delicious food in the world. It is the perfect place to have your family.\n",
            "\n",
            "If you like to eat here and have a good time, then this is the place to go!\n",
            "\n",
            "The place is so small that it is impossible to tell where it is. It looks like it is a restaurant but there are a lot of other things in the restaurant.\n",
            "\n",
            "The menu looks pretty good and the food is really good. I have had a couple of different types of food here, so I would recommend it.\n",
            "\n",
            "The food is very good and I love that it is made with real Italian ingredients. The food is so good I have to go back to it.\n",
            "\n",
            "I love this restaurant.\n",
            "\n",
            "This is the best place in the world. The food is very good. I have never been to this place. It is a great place to get a good meal.\n",
            "\n",
            "I love\n",
            "TOTAL TIME ELAPSED: 2.05s\n"
          ]
        }
      ],
      "source": [
        "start = time.time()\n",
        "\n",
        "output = gpt2_lm.generate(\"That Italian restaurant is\", max_length=200)\n",
        "print(\"\\nGPT-2 output:\")\n",
        "print(output)\n",
        "\n",
        "end = time.time()\n",
        "print(f\"TOTAL TIME ELAPSED: {end - start:.2f}s\")"
      ]
    },
    {
      "cell_type": "markdown",
      "metadata": {
        "id": "GDdFVHsCzb76"
      },
      "source": [
        "Observa cuánto más rápido es el segundo llamado. Esto se debe a que el grafo computacional se compila con [XLA](https://www.tensorflow.org/xla) en la primera ejecución y se reutiliza en la segunda, en segundo plano.\n",
        "\n",
        "La calidad del texto generado parece estar bien, pero podemos mejorarlo mediante el ajuste fino / afinación (fine-tuning.)."
      ]
    },
    {
      "cell_type": "markdown",
      "metadata": {
        "id": "DMUG5tCvzb76"
      },
      "source": [
        "## Más sobre el modelo GPT-2 de KerasNLP\n",
        "\n",
        "A continuación, vamos a ajustar finamente el modelo para actualizar sus parámetros, pero antes de hacerlo, echemos un vistazo al conjunto completo de herramientas que tenemos para trabajar con GPT2.\n",
        "\n",
        "El código de GPT2 se puede encontrar [aquí](https://github.com/keras-team/keras-nlp/blob/master/keras_nlp/models/gpt2/). Conceptualmente, `GPT2CausalLM` se puede descomponer jerárquicamente en varios módulos en KerasNLP, todos los cuales tienen una función *from_preset()* que carga un modelo pre-entrenado:\n",
        "\n",
        "- `keras_nlp.models.GPT2Tokenizer`: El tokenizador utilizado por el modelo GPT2, que es un [codificador de pares de bytes](https://huggingface.co/course/chapter6/5?fw=pt).\n",
        "- `keras_nlp.models.GPT2CausalLMPreprocessor`: el preprocesador utilizado en el entrenamiento causal de GPT2. Realiza la tokenización junto con otros trabajos de preprocesamiento, como la creación de la etiqueta y la adición del token de finalización.\n",
        "- `keras_nlp.models.GPT2Backbone`: el modelo GPT2, que es una pila de `keras_nlp.layers.TransformerDecoder`. A esto generalmente se le denomina simplemente `GPT2`.\n",
        "- `keras_nlp.models.GPT2CausalLM`: envuelve a `GPT2Backbone`, multiplica la salida de `GPT2Backbone` por la matriz de embedding para generar logits sobre los tokens del vocabulario."
      ]
    },
    {
      "cell_type": "markdown",
      "metadata": {
        "id": "mKGfUONezb77"
      },
      "source": [
        "## Ajuste fino (Fine-tuning) en el conjunto de datos WikiHow\n",
        "\n",
        "Ahora que tienes conocimientos sobre el modelo GPT-2 de KerasNLP, puedes dar un paso más para ajustar finamente el modelo y lograr que genere texto en un estilo específico, ya sea corto o largo, formal o casual. En este tutorial, utilizaremos el conjunto de datos de Wikihow como ejemplo.\n",
        "\n",
        "\n",
        "\n",
        "## Finetune en Dataset Español\n",
        "\n",
        "También podemos ajustar finamente GPT2 en conjuntos de datos que no sean su idioma principal de entrenamiento. Esta parte muestra cómo ajustar finamente GPT2 en un conjunto de datos de wikihow en español para enseñar a nuestro modelo a convertirse en un sabelotodo.\n",
        "\n",
        "Debido a que GPT2 utiliza un codificador de pares de bytes (byte-pair encoder) y el conjunto de datos de pre-entrenamiento original contiene algunos caracteres en español, podemos utilizar el vocabulario original para ajustar finamente en un conjunto de datos en español."
      ]
    },
    {
      "cell_type": "code",
      "execution_count": null,
      "metadata": {
        "id": "Ct1gnrN5zb77"
      },
      "outputs": [],
      "source": [
        "!# Descargamos el dataset desde HuggingFace\n",
        "git clone https://huggingface.co/daqc/wikihow-spanish"
      ]
    },
    {
      "cell_type": "markdown",
      "metadata": {
        "id": "RhQKRjNBzb77"
      },
      "source": [
        "Echemos un vistazo dentro de los datos de muestra del conjunto de datos:\n"
      ]
    },
    {
      "cell_type": "code",
      "execution_count": null,
      "metadata": {
        "id": "t1ATVaVJzb77",
        "colab": {
          "base_uri": "https://localhost:8080/"
        },
        "outputId": "459f8be8-e790-47b2-85b8-4fe01daf6f8a"
      },
      "outputs": [
        {
          "output_type": "stream",
          "name": "stdout",
          "text": [
            "Clave: https://es.wikihow.com/calcular-el-rendimiento-anualizado-de-una-cartera-de-inversiones\n",
            "Estructura:\n",
            "{\n",
            "    \"Calcular tu rendimiento anualizado\": {\n",
            "        \"summary\": \"Calcula tu rendimiento anualizado. Calcula el rendimiento semestral. Calcula un equivalente anualizado.\",\n",
            "        \"document\": \"Una vez que hayas calculado el rendimiento total (como se muestra arriba), ingresa el resultado en esta ecuaci\\u00f3n: rendimiento anualizado = (1+ rendimiento)1/N-1 El producto de esta ecuaci\\u00f3n ser\\u00e1 el n\\u00famero correspondiente al rendimiento de cada a\\u00f1o durante todo el periodo de tiempo.  En el exponente (el n\\u00famero peque\\u00f1o que est\\u00e1 afuera del par\\u00e9ntesis), el \\u201c1\\u201d representa la unidad que estamos midiendo, que es un a\\u00f1o. Si deseas ser m\\u00e1s espec\\u00edfico, podr\\u00edas usar \\u201c365\\u201d para obtener el rendimiento diario. La \\u201cN\\u201d representa el n\\u00famero de periodos que medir\\u00e1s. Entonces, si mides tu rendimiento en 7 a\\u00f1os, tendr\\u00e1s que utilizar este n\\u00famero en lugar de \\\"N\\\". Por ejemplo, supongamos que en un periodo de siete a\\u00f1os, el valor de tu cartera creci\\u00f3 de $1,000 a $2,500. Primero calcula tu rendimiento total: (2 500-1 000)/1000 = 1,50 (un rendimiento de 150\\u00a0%). El siguiente paso es calcular tu rendimiento anualizado: (1 + 1,50)1/7-1 = 0,1399 = 13,99\\u00a0% de rendimiento anual. \\u00a1Eso es todo! Respeta el orden matem\\u00e1tico normal que se utiliza para resolver operaciones: primero haz las que est\\u00e1n adentro de los par\\u00e9ntesis, despu\\u00e9s aplica el exponente y luego realiza la sustracci\\u00f3n. Ahora bien, digamos que quieres saber cu\\u00e1l es el rendimiento semestral (el que se obtiene dos veces al a\\u00f1o, es decir cada seis meses) en el transcurso de este periodo de siete a\\u00f1os.  La f\\u00f3rmula sigue siendo la misma, solo tendr\\u00e1s que modificar el n\\u00famero de periodos que vas a calcular. El resultado final ser\\u00e1 tu rendimiento semestral.  En este caso, tendr\\u00e1s 14 periodos semestrales, dos en cada a\\u00f1o durante los siete. Primero calcula el rendimiento total: (2 500-1 000)/1000 = 1,50 (un rendimiento de 150\\u00a0%). Despu\\u00e9s calcula tu rendimiento anualizado: (1 + 1,50)1/14-1 = 6,76\\u00a0%. Puedes convertir este resultado a un rendimiento anual simplemente al multiplicarlo por 2: 6,76\\u00a0% x 2 = 13,52\\u00a0%. Tambi\\u00e9n puedes calcular el equivalente anualizado de rendimientos en periodos m\\u00e1s cortos. Por ejemplo, imagina que solo obtuviste un rendimiento de seis meses y quieres saber su equivalente anualizado. Nuevamente, la f\\u00f3rmula es la misma.  Supongamos que en un periodo de seis meses, el valor de tu cartera se incrementa de $1 000 a $1 050. Empieza con el c\\u00e1lculo de tu rendimiento total: (1 050-1 000)/1 000= 0,05 (un rendimiento del 5\\u00a0% en seis meses). Ahora bien, si quisieras saber cu\\u00e1l ser\\u00eda el equivalente anualizado (asumiendo que la tasa de rendimiento y el rendimiento compuesto se mantengan),  tendr\\u00e1s que hacer el siguiente c\\u00e1lculo: (1+0,05)1/0,50-1=10,25\\u00a0% de rendimiento anual. Sin importar cu\\u00e1n largo o corto sea el periodo de tiempo, si sigues la f\\u00f3rmula de arriba, siempre podr\\u00e1s convertir tu rendimiento a uno anualizado.\",\n",
            "        \"english_section_name\": \"Calculating Your Annualized Return\",\n",
            "        \"english_url\": \"https://www.wikihow.com/Calculate-Annualized-Portfolio-Return\"\n",
            "    },\n",
            "    \"Sentar los fundamentos\": {\n",
            "        \"summary\": \"Aprende los t\\u00e9rminos claves. Aprende c\\u00f3mo funciona el rendimiento compuesto. Utiliza un rendimiento ponderado en el tiempo para calcular tu tasa compuesta de rendimiento. Calcula tu rendimiento total. Aprende cu\\u00e1les son las f\\u00f3rmulas de Excel para estos c\\u00e1lculos.\",\n",
            "        \"document\": \"Al discutir el rendimiento anualizado de una cartera de inversiones, hay varios t\\u00e9rminos esenciales que aparecer\\u00e1n continuamente y que es importante que entiendas. Estos son los siguientes:  El rendimiento anual: este es el rendimiento total de una inversi\\u00f3n en un periodo de un a\\u00f1o civil, en el que se incluyen los dividendos, los intereses y las ganancias del capital.   El rendimiento anualizado: la tasa anual de rendimiento que se infiere al extrapolar el rendimiento que se mide en periodos m\\u00e1s cortos o largos que un a\\u00f1o civil.   El rendimiento promedio: es el rendimiento normal que se obtiene en un periodo de tiempo y que se calcula al separar lo obtenido en un tiempo largo en partes iguales, de acuerdo a los periodos (m\\u00e1s cortos).   Rendimiento compuesto (o capitalizado): este incluye los resultados de la reinversi\\u00f3n de intereses, dividendos y ganancias del capital.   Periodo: una duraci\\u00f3n espec\\u00edfica de tiempo seleccionado para medir y calcular el rendimiento, puede ser diaria, mensual, trimestral o anualmente. Rendimiento peri\\u00f3dico: el rendimiento total de una inversi\\u00f3n medido en un periodo de tiempo espec\\u00edfico. Este es el crecimiento de las ganancias que ya has adquirido. Mientras tu dinero se capitalice por m\\u00e1s tiempo, este crecer\\u00e1 m\\u00e1s r\\u00e1pido y mayor ser\\u00e1 tu rendimiento anualizado. Por ejemplo, piensa en una bola de nieve que rueda cuesta abajo y que va creciendo conforme avanza con mayor rapidez.  Digamos que inviertes $100 y ganas el 100\\u00a0% en tu primer a\\u00f1o, lo que te resulta en $200 al final de dicho periodo de tiempo. Si obtuvieras solo el 10\\u00a0% en el segundo a\\u00f1o, ganar\\u00edas $20 por tus $200 al t\\u00e9rmino del segundo a\\u00f1o. Sin embargo, digamos que hubieras ganado solo el 50\\u00a0% durante el primer a\\u00f1o, tendr\\u00edas $150 al inicio del segundo. Esa misma ganancia del 10\\u00a0% en el segundo a\\u00f1o te dar\\u00eda $15 en lugar de 20. Esto representa un 33\\u00a0% menos que los $20 que hubieras podido ganar en el caso del primer ejemplo. Para ilustrar mejor el concepto, digamos que has perdido el 50\\u00a0% en el primer a\\u00f1o, lo que te deja con solo $50. Entonces, tendr\\u00e1s que ganar el 100\\u00a0% solo para volver a tener la cantidad inicial (100\\u00a0% de $50 = $50, y $50 + $50 = $100). La dimensi\\u00f3n de las ganancias y el tiempo en el que ocurren juegan un rol muy importante al momento de explicar el rendimiento compuesto y su efecto en el rendimiento anualizado. En otras palabras, este \\u00faltimo no es una manera confiable de medir las ganancias o las p\\u00e9rdidas. Sin embargo, constituye una buena herramienta al momento de comparar varias inversiones con otras. Cuando quieres encontrar el promedio de varias cosas, como la precipitaci\\u00f3n diaria o la p\\u00e9rdida de peso en varios meses, con frecuencia puedes usar un promedio simple o una media aritm\\u00e9tica. Esta es una t\\u00e9cnica que probablemente aprendiste en la escuela. No obstante, el promedio simple no explica los efectos que cada rendimiento peri\\u00f3dico tiene en los otros o el tiempo de cada uno. Para lograrlo, se puede utilizar un rendimiento geom\\u00e9trico ponderado en el tiempo. \\u00a1No te preocupes, este art\\u00edculo te guiar\\u00e1 para realizar la f\\u00f3rmula!  Un promedio simple no funciona porque todos los rendimientos peri\\u00f3dicos dependen de los dem\\u00e1s.   Por ejemplo, imagina que quieres tabular el rendimiento promedio de $100 en dos a\\u00f1o. Digamos que hayas ganado el 100\\u00a0% en el primer a\\u00f1o, lo que significa que tendr\\u00edas $200 al final (100\\u00a0% de 100 = 100). Si perdieras 50\\u00a0% durante el segundo a\\u00f1o, tendr\\u00edas $100 al final de \\u00e9l (50\\u00a0% de 200 = 100). Esta es la misma cantidad con la que empezaste al principio del primer a\\u00f1o. Un promedio simple (media aritm\\u00e9tica) sumar\\u00eda los dos resultados y los dividir\\u00eda entre el n\\u00famero de periodos, que en el ejemplo son dos a\\u00f1os. El resultado te har\\u00eda creer que ganaste un rendimiento promedio de 25% cada a\\u00f1o. Sin embargo, cuando relacionas los dos rendimientos, te podr\\u00e1s dar cuenta que en realidad no ganaste nada. Los a\\u00f1os se neutralizan entre ellos. Para comenzar, debes calcular el rendimiento total en todo el periodo de tiempo que est\\u00e1s evaluando. Para una mayor claridad, utilizaremos un ejemplo en el que no se realizar\\u00e1n dep\\u00f3sitos ni retiros. Si quieres calcular tu rendimiento total, lo \\u00fanico que necesitas son dos n\\u00fameros: el valor inicial de la cartera de inversiones y el final.  Sustrae el valor inicial del final. Divide este n\\u00famero entre el valor inicial. El resultado ser\\u00e1 tu rendimiento. En el caso de que se d\\u00e9 una p\\u00e9rdida durante el periodo evaluado, debes sustraer el balance final del inicial. Despu\\u00e9s, divide el resultado entre el inicial y considera al producto como un valor negativo. Esta \\u00faltima operaci\\u00f3n sustituye la necesidad de sumar algebraicamente un n\\u00famero negativo.   Realiza primero la sustracci\\u00f3n, luego la divisi\\u00f3n. Estas operaciones te dar\\u00e1n tu porcentaje total de rendimiento. La f\\u00f3rmula para la tasa de rendimiento total es la siguiente: (valor final de la cartera - valor inicial de la cartera)/valor inicial de la cartera. La f\\u00f3rmula para obtener la tasa compuesta de rendimiento es: POWER((1 + tasa de rendimiento total),(1/a\\u00f1os))-1. Por ejemplo, si el valor inicial de la cartera de inversiones fuera de $1 000 y su valor final fuera de $2 500, siete a\\u00f1os despu\\u00e9s, los c\\u00e1lculos ser\\u00edan los siguientes:  Tasa de rendimiento total = (2 500-1 000)/1 000 = 1,5. Tasa compuesta de rendimiento= POWER((1 + 1,5),(1/7)) - 1 = 0,1398 = 13,98\\u00a0%.\",\n",
            "        \"english_section_name\": \"Laying the Groundwork\",\n",
            "        \"english_url\": \"https://www.wikihow.com/Calculate-Annualized-Portfolio-Return\"\n",
            "    }\n",
            "}\n"
          ]
        }
      ],
      "source": [
        "import json\n",
        "\n",
        "# Leer el archivo JSON\n",
        "with open('dataset/spanish.json', 'r') as file:\n",
        "    data = json.load(file)\n",
        "\n",
        "# Obtener la primera clave y el primer elemento del diccionario\n",
        "primer_clave = next(iter(data))\n",
        "primer_elemento = data[primer_clave]\n",
        "\n",
        "# Imprimir la clave y la estructura del primer elemento\n",
        "print(\"Clave:\", primer_clave)\n",
        "print(\"Estructura:\")\n",
        "print(json.dumps(primer_elemento, indent=4))"
      ]
    },
    {
      "cell_type": "markdown",
      "metadata": {
        "id": "NDhxryFVzb77"
      },
      "source": [
        "En nuestro caso, al realizar la predicción de la siguiente palabra en un modelo de lenguaje, necesitamos obtener solamente la informacion de relevancia del dataset mediante el siguiente codigo:"
      ]
    },
    {
      "cell_type": "code",
      "execution_count": null,
      "metadata": {
        "id": "jmjFCsfnzb77",
        "colab": {
          "base_uri": "https://localhost:8080/"
        },
        "outputId": "717f500a-47a7-40ef-fd8e-d957878d60fe"
      },
      "outputs": [
        {
          "output_type": "stream",
          "name": "stdout",
          "text": [
            "Parrafo 1:\n",
            "¿Cómo calcular el rendimiento anualizado de una cartera de inversiones?\n",
            "Calcular tu rendimiento anualizado:\n",
            "Calcula tu rendimiento anualizado. Calcula el rendimiento semestral. Calcula un equivalente anualizado.\n",
            "Una vez que hayas calculado el rendimiento total (como se muestra arriba), ingresa el resultado en esta ecuación: rendimiento anualizado = (1+ rendimiento)1/N-1 El producto de esta ecuación será el número correspondiente al rendimiento de cada año durante todo el periodo de tiempo.  En el exponente (el número pequeño que está afuera del paréntesis), el “1” representa la unidad que estamos midiendo, que es un año. Si deseas ser más específico, podrías usar “365” para obtener el rendimiento diario. La “N” representa el número de periodos que medirás. Entonces, si mides tu rendimiento en 7 años, tendrás que utilizar este número en lugar de \"N\". Por ejemplo, supongamos que en un periodo de siete años, el valor de tu cartera creció de $1,000 a $2,500. Primero calcula tu rendimiento total: (2 500-1 000)/1000 = 1,50 (un rendimiento de 150 %). El siguiente paso es calcular tu rendimiento anualizado: (1 + 1,50)1/7-1 = 0,1399 = 13,99 % de rendimiento anual. ¡Eso es todo! Respeta el orden matemático normal que se utiliza para resolver operaciones: primero haz las que están adentro de los paréntesis, después aplica el exponente y luego realiza la sustracción. Ahora bien, digamos que quieres saber cuál es el rendimiento semestral (el que se obtiene dos veces al año, es decir cada seis meses) en el transcurso de este periodo de siete años.  La fórmula sigue siendo la misma, solo tendrás que modificar el número de periodos que vas a calcular. El resultado final será tu rendimiento semestral.  En este caso, tendrás 14 periodos semestrales, dos en cada año durante los siete. Primero calcula el rendimiento total: (2 500-1 000)/1000 = 1,50 (un rendimiento de 150 %). Después calcula tu rendimiento anualizado: (1 + 1,50)1/14-1 = 6,76 %. Puedes convertir este resultado a un rendimiento anual simplemente al multiplicarlo por 2: 6,76 % x 2 = 13,52 %. También puedes calcular el equivalente anualizado de rendimientos en periodos más cortos. Por ejemplo, imagina que solo obtuviste un rendimiento de seis meses y quieres saber su equivalente anualizado. Nuevamente, la fórmula es la misma.  Supongamos que en un periodo de seis meses, el valor de tu cartera se incrementa de $1 000 a $1 050. Empieza con el cálculo de tu rendimiento total: (1 050-1 000)/1 000= 0,05 (un rendimiento del 5 % en seis meses). Ahora bien, si quisieras saber cuál sería el equivalente anualizado (asumiendo que la tasa de rendimiento y el rendimiento compuesto se mantengan),  tendrás que hacer el siguiente cálculo: (1+0,05)1/0,50-1=10,25 % de rendimiento anual. Sin importar cuán largo o corto sea el periodo de tiempo, si sigues la fórmula de arriba, siempre podrás convertir tu rendimiento a uno anualizado.\n",
            "Sentar los fundamentos:\n",
            "Aprende los términos claves. Aprende cómo funciona el rendimiento compuesto. Utiliza un rendimiento ponderado en el tiempo para calcular tu tasa compuesta de rendimiento. Calcula tu rendimiento total. Aprende cuáles son las fórmulas de Excel para estos cálculos.\n",
            "Al discutir el rendimiento anualizado de una cartera de inversiones, hay varios términos esenciales que aparecerán continuamente y que es importante que entiendas. Estos son los siguientes:  El rendimiento anual: este es el rendimiento total de una inversión en un periodo de un año civil, en el que se incluyen los dividendos, los intereses y las ganancias del capital.   El rendimiento anualizado: la tasa anual de rendimiento que se infiere al extrapolar el rendimiento que se mide en periodos más cortos o largos que un año civil.   El rendimiento promedio: es el rendimiento normal que se obtiene en un periodo de tiempo y que se calcula al separar lo obtenido en un tiempo largo en partes iguales, de acuerdo a los periodos (más cortos).   Rendimiento compuesto (o capitalizado): este incluye los resultados de la reinversión de intereses, dividendos y ganancias del capital.   Periodo: una duración específica de tiempo seleccionado para medir y calcular el rendimiento, puede ser diaria, mensual, trimestral o anualmente. Rendimiento periódico: el rendimiento total de una inversión medido en un periodo de tiempo específico. Este es el crecimiento de las ganancias que ya has adquirido. Mientras tu dinero se capitalice por más tiempo, este crecerá más rápido y mayor será tu rendimiento anualizado. Por ejemplo, piensa en una bola de nieve que rueda cuesta abajo y que va creciendo conforme avanza con mayor rapidez.  Digamos que inviertes $100 y ganas el 100 % en tu primer año, lo que te resulta en $200 al final de dicho periodo de tiempo. Si obtuvieras solo el 10 % en el segundo año, ganarías $20 por tus $200 al término del segundo año. Sin embargo, digamos que hubieras ganado solo el 50 % durante el primer año, tendrías $150 al inicio del segundo. Esa misma ganancia del 10 % en el segundo año te daría $15 en lugar de 20. Esto representa un 33 % menos que los $20 que hubieras podido ganar en el caso del primer ejemplo. Para ilustrar mejor el concepto, digamos que has perdido el 50 % en el primer año, lo que te deja con solo $50. Entonces, tendrás que ganar el 100 % solo para volver a tener la cantidad inicial (100 % de $50 = $50, y $50 + $50 = $100). La dimensión de las ganancias y el tiempo en el que ocurren juegan un rol muy importante al momento de explicar el rendimiento compuesto y su efecto en el rendimiento anualizado. En otras palabras, este último no es una manera confiable de medir las ganancias o las pérdidas. Sin embargo, constituye una buena herramienta al momento de comparar varias inversiones con otras. Cuando quieres encontrar el promedio de varias cosas, como la precipitación diaria o la pérdida de peso en varios meses, con frecuencia puedes usar un promedio simple o una media aritmética. Esta es una técnica que probablemente aprendiste en la escuela. No obstante, el promedio simple no explica los efectos que cada rendimiento periódico tiene en los otros o el tiempo de cada uno. Para lograrlo, se puede utilizar un rendimiento geométrico ponderado en el tiempo. ¡No te preocupes, este artículo te guiará para realizar la fórmula!  Un promedio simple no funciona porque todos los rendimientos periódicos dependen de los demás.   Por ejemplo, imagina que quieres tabular el rendimiento promedio de $100 en dos año. Digamos que hayas ganado el 100 % en el primer año, lo que significa que tendrías $200 al final (100 % de 100 = 100). Si perdieras 50 % durante el segundo año, tendrías $100 al final de él (50 % de 200 = 100). Esta es la misma cantidad con la que empezaste al principio del primer año. Un promedio simple (media aritmética) sumaría los dos resultados y los dividiría entre el número de periodos, que en el ejemplo son dos años. El resultado te haría creer que ganaste un rendimiento promedio de 25% cada año. Sin embargo, cuando relacionas los dos rendimientos, te podrás dar cuenta que en realidad no ganaste nada. Los años se neutralizan entre ellos. Para comenzar, debes calcular el rendimiento total en todo el periodo de tiempo que estás evaluando. Para una mayor claridad, utilizaremos un ejemplo en el que no se realizarán depósitos ni retiros. Si quieres calcular tu rendimiento total, lo único que necesitas son dos números: el valor inicial de la cartera de inversiones y el final.  Sustrae el valor inicial del final. Divide este número entre el valor inicial. El resultado será tu rendimiento. En el caso de que se dé una pérdida durante el periodo evaluado, debes sustraer el balance final del inicial. Después, divide el resultado entre el inicial y considera al producto como un valor negativo. Esta última operación sustituye la necesidad de sumar algebraicamente un número negativo.   Realiza primero la sustracción, luego la división. Estas operaciones te darán tu porcentaje total de rendimiento. La fórmula para la tasa de rendimiento total es la siguiente: (valor final de la cartera - valor inicial de la cartera)/valor inicial de la cartera. La fórmula para obtener la tasa compuesta de rendimiento es: POWER((1 + tasa de rendimiento total),(1/años))-1. Por ejemplo, si el valor inicial de la cartera de inversiones fuera de $1 000 y su valor final fuera de $2 500, siete años después, los cálculos serían los siguientes:  Tasa de rendimiento total = (2 500-1 000)/1 000 = 1,5. Tasa compuesta de rendimiento= POWER((1 + 1,5),(1/7)) - 1 = 0,1398 = 13,98 %.\n",
            "\n",
            "\n",
            "Parrafo 2:\n",
            "¿Cómo envolver una cinta alrededor de una caja?\n",
            "Hacer un moño en diagonal:\n",
            "Pasa la cinta por la esquina superior izquierda de la caja. Pasa la cinta detrás de la esquina superior derecha. Pasa la cinta por la esquina inferior derecha y debajo de la esquina inferior izquierda. Lleva la cinta hacia la esquina superior izquierda. Corta el exceso de cinta. Cruza y amarra las cintas. Cortar el exceso de cinta.\n",
            "Deja alrededor de 10 a 20 centímetros (4 a 8 pulgadas) colgando de la esquina del lado izquierdo. Deja el resto de la cinta en el carrete en el borde superior. Toma el lado del carrete de la cinta y pásala por detrás de la esquina superior derecha, hacia la esquina inferior derecha. Mantén el pulgar sobre la cinta en la esquina superior izquierda para que no se caiga. Mantén las cintas bien colocadas y ceñidas para que no se salgan de las esquinas. En este punto, sería una buena idea que ajustes las posiciones de las cintas envueltas en cada una de las esquinas. Si parece que se están cayendo, sácalas de las esquinas. Lleva ambas cintas hacia el centro de la esquina superior izquierda. Mide la cinta del carrete y la otra cinta y córtalas para que tengan el mismo tamaño. Cruza la cinta izquierda por encima y por debajo de la derecha, luego tira de ambos extremos para ajustarlos. Dobla las dos cintas en forma de moño y luego cruza la derecha sobre la izquierda, como si estuvieras amarrando un zapato. Cuando el moño esté firme y seguro, corta el exceso de las colas. Para un toque más elegante, córtalos en ángulos o forma de “v”.\n",
            "Hacer un moño básico:\n",
            "Pasa la cinta horizontalmente por la parte superior de la caja. Pasa el resto de la cinta por debajo de la caja, luego pásala por la parte superior. Cruza las cintas en la parte superior de la caja. Pasa la cinta por la parte inferior de la caja y vuélvela a pasar por la parte superior. Mide las cintas y corta la más larga. Pasa la cinta por debajo de la parte retorcida. Amarra la cinta en forma de moño. Ajusta el moño y luego corta el exceso de cinta.\n",
            "Deja un poco de cinta colgando del costado de la caja para hacer la cola del moño, que el exceso mida entre 10 y 20 centímetros (4 y 8 pulgadas). No cortes la cinta todavía. Es mejor dejar bastante cinta colgando del costado. Después podrás cortarla. No voltees la caja, ya que la cinta puede perder su posición. En su lugar, levanta la caja y pasa el resto de la cinta por debajo de ella. Vuelve a colocar la caja en su lugar cuando pases la cinta por el lado superior. Lleva la cinta hacia el centro de la caja, también lleva el extremo más corto al centro. Retuerce las cintas una alrededor de la otra para que tengan una orientación vertical. Si la cinta tiene un lado al revés, es posible que tengas que retorcerla dos veces para que no se vea el lado equivocado de la cinta. Levanta la caja de nuevo. Tira de la cinta más larga y pásala por debajo de la caja y luego pásala por la parte superior. Baja la caja. Coloca el dedo pulgar en la parte retorcida para mantenerla segura mientras pasas la cinta por el lado inferior de la caja. Lleva la cinta al centro de la caja. Mide las dos cintas y corta la más larga, así tendrán el mismo tamaño. Tira de la cinta en ángulo por la parte delantera de la parte retorcida. Llévala por debajo de la parte retorcida, y sácala por donde empezaste. Tira de ambos extremos de la cinta para apretar el nudo. Dobla ambos extremos de la cinta en forma de moño. Cruza el lazo izquierdo sobre el derecho para hacer un lazo más pequeño en el medio. Tira del lazo izquierdo a través del más pequeño, luego tira para apretar. Tómate un tiempo para ajustar los lazos y las colas. Si usaste una cinta con cable, también puedes arreglar los lazos. Para un toque más elegante, corta los extremos de las colas en ángulos o en forma de “v”.\n",
            "Hacer un moño con apariencia de tejido:\n",
            "Corta cuatro pedazos de cinta para usar en la longitud de la caja. Corta cuatro trozos de cinta para usar en el ancho de la caja. Establece el primer conjunto de cintas una al lado de la otra sobre la mesa. Coloca la caja sobre las cintas. Envuelve las cintas alrededor de la caja y asegúralas con cinta adhesiva de doble cara. Asegura el siguiente conjunto de cintas justo encima del primero. Voltea la caja y teje las cintas cortas a través del primer conjunto de cintas. Asegura las cintas en la parte posterior inferior de la caja. Si lo deseas, agrega una decoración en la parte superior.\n",
            "Necesitarás cuatro trozos de cinta que sean lo suficientemente largos como para envolver el largo de la caja, más 5 centímetros (2 pulgadas) adicionales.  Para una apariencia única, considera usar dos piezas de cinta delgada y dos piezas de cinta ligeramente gruesa. También puedes usar dos colores que contrasten. No es una buena idea usar una cinta gruesa o con cable. Usa una cinta fina de satén o de globo para tener mejores resultados. Usa la misma cinta que en el paso anterior. Esta vez, corta la cinta para que sea suficientemente larga como para envolver el ancho de la caja, más 5 centímetros (2 pulgadas). Toma las cuatro cintas largas y ponlas sobre la mesa. Asegúrate de que estén paralelas entre sí y espaciadas a no más de 0,6 centímetros (¼ de pulgada) de distancia. Si usaste diferentes anchos o colores, asegúrate de alternarlos. Coloca el regalo boca abajo sobre las cintas. La caja puede o no puede estar centrada, dependiendo de dónde desees que estén las cintas. Coloca y pega cada una de las cintas de una a una; no pegues todos a la vez. Tira de las cintas firmemente alrededor de la caja para que estén bien colocadas y ceñidas. Los extremos de la cinta se superpondrán entre sí a 2,5 centímetros (1 pulgada) aproximadamente.  Asegúrate de solo pegar la cinta superior sobre la cinta inferior; no pegues las cintas a la caja. También puedes usar puntos de pegamento (puedes encontrarlos en la sección de álbumes de recortes de una tienda de artesanías) en lugar de cinta adhesiva de doble cara. Coloca una tira de cinta de doble cara en el extremo de cada una de las cintas cortas. Coloca las cintas justo encima de la primera cinta larga, así te asegurarás de que los extremos queden perpendiculares a ella. Una vez más, mantén las cintas espaciadas a no más de 0,6 centímetros (¼ de pulgada) de distancia. Tira de las cintas cortas hacia el frente de la caja. Tejemos la primera por encima del primer conjunto de cintas. Teje la siguiente cinta una y otra vez, y así sucesivamente. Continúa tejiendo hasta que hayas tejido las cuatro cintas. Voltea la caja otra vez. Pega una tira de cinta adhesiva de doble cara en el extremo de cada cinta, luego pasa las cintas una a una hacia la parte inferior de la caja. Asegúrate de que los extremos de las cintas coincidan. Para darle un toque más bonito, teje las cintas cortas a través de las cintas largas en la parte inferior, así como lo hiciste en la parte superior. Las cintas tejidas son parte del diseño. Si sientes que le falta algo al regalo, puedes comprar o hacer un moño a juego y luego asegurarlo en la caja. En lugar de cubrir todo el trabajo, coloca el moño hacia un lado para que el tejido sea visible.\n",
            "\n"
          ]
        }
      ],
      "source": [
        "import os\n",
        "import json\n",
        "from urllib.parse import urlsplit, unquote\n",
        "\n",
        "wikihow_data = []\n",
        "for file in os.listdir(\"dataset/\"):\n",
        "    if \".json\" not in file:\n",
        "        continue\n",
        "    full_filename = os.path.join(\"dataset/\", file)\n",
        "    with open(full_filename, \"r\") as f:\n",
        "        content = json.load(f)\n",
        "        wikihow_data.append(content)\n",
        "\n",
        "paragraphs = []\n",
        "for parent_url, sections in data.items():\n",
        "    decoded_parent_url = \"¿Cómo \" + unquote(urlsplit(parent_url).path.split(\"/\")[-1]).replace('-', ' ') + \"?\"\n",
        "    paragraph = f\"{decoded_parent_url}\\n\"\n",
        "    for section in sections:\n",
        "        section_data = sections[section]\n",
        "        title = section + \":\"\n",
        "        summary = section_data.get(\"summary\", \"\")\n",
        "        document = section_data.get(\"document\", \"\")\n",
        "        paragraph += f\"{title}\\n{summary}\\n{document}\\n\"\n",
        "    paragraphs.append(paragraph)\n",
        "\n",
        "print(\"Parrafo 1:\")\n",
        "print(paragraphs[0])\n",
        "print()\n",
        "#print(\"Parrafo 2:\")\n",
        "#print(paragraphs[1])\n"
      ]
    },
    {
      "cell_type": "markdown",
      "source": [
        "Damos un vistazo a los datos de ejemplo."
      ],
      "metadata": {
        "id": "KbIH0qeUaRIg"
      }
    },
    {
      "cell_type": "code",
      "source": [
        "print(paragraphs[1])"
      ],
      "metadata": {
        "colab": {
          "base_uri": "https://localhost:8080/"
        },
        "id": "tsUmonjoaQwb",
        "outputId": "c1333000-e848-4567-f9da-753ed2837304"
      },
      "execution_count": null,
      "outputs": [
        {
          "output_type": "stream",
          "name": "stdout",
          "text": [
            "¿Cómo envolver una cinta alrededor de una caja?\n",
            "Hacer un moño en diagonal:\n",
            "Pasa la cinta por la esquina superior izquierda de la caja. Pasa la cinta detrás de la esquina superior derecha. Pasa la cinta por la esquina inferior derecha y debajo de la esquina inferior izquierda. Lleva la cinta hacia la esquina superior izquierda. Corta el exceso de cinta. Cruza y amarra las cintas. Cortar el exceso de cinta.\n",
            "Deja alrededor de 10 a 20 centímetros (4 a 8 pulgadas) colgando de la esquina del lado izquierdo. Deja el resto de la cinta en el carrete en el borde superior. Toma el lado del carrete de la cinta y pásala por detrás de la esquina superior derecha, hacia la esquina inferior derecha. Mantén el pulgar sobre la cinta en la esquina superior izquierda para que no se caiga. Mantén las cintas bien colocadas y ceñidas para que no se salgan de las esquinas. En este punto, sería una buena idea que ajustes las posiciones de las cintas envueltas en cada una de las esquinas. Si parece que se están cayendo, sácalas de las esquinas. Lleva ambas cintas hacia el centro de la esquina superior izquierda. Mide la cinta del carrete y la otra cinta y córtalas para que tengan el mismo tamaño. Cruza la cinta izquierda por encima y por debajo de la derecha, luego tira de ambos extremos para ajustarlos. Dobla las dos cintas en forma de moño y luego cruza la derecha sobre la izquierda, como si estuvieras amarrando un zapato. Cuando el moño esté firme y seguro, corta el exceso de las colas. Para un toque más elegante, córtalos en ángulos o forma de “v”.\n",
            "Hacer un moño básico:\n",
            "Pasa la cinta horizontalmente por la parte superior de la caja. Pasa el resto de la cinta por debajo de la caja, luego pásala por la parte superior. Cruza las cintas en la parte superior de la caja. Pasa la cinta por la parte inferior de la caja y vuélvela a pasar por la parte superior. Mide las cintas y corta la más larga. Pasa la cinta por debajo de la parte retorcida. Amarra la cinta en forma de moño. Ajusta el moño y luego corta el exceso de cinta.\n",
            "Deja un poco de cinta colgando del costado de la caja para hacer la cola del moño, que el exceso mida entre 10 y 20 centímetros (4 y 8 pulgadas). No cortes la cinta todavía. Es mejor dejar bastante cinta colgando del costado. Después podrás cortarla. No voltees la caja, ya que la cinta puede perder su posición. En su lugar, levanta la caja y pasa el resto de la cinta por debajo de ella. Vuelve a colocar la caja en su lugar cuando pases la cinta por el lado superior. Lleva la cinta hacia el centro de la caja, también lleva el extremo más corto al centro. Retuerce las cintas una alrededor de la otra para que tengan una orientación vertical. Si la cinta tiene un lado al revés, es posible que tengas que retorcerla dos veces para que no se vea el lado equivocado de la cinta. Levanta la caja de nuevo. Tira de la cinta más larga y pásala por debajo de la caja y luego pásala por la parte superior. Baja la caja. Coloca el dedo pulgar en la parte retorcida para mantenerla segura mientras pasas la cinta por el lado inferior de la caja. Lleva la cinta al centro de la caja. Mide las dos cintas y corta la más larga, así tendrán el mismo tamaño. Tira de la cinta en ángulo por la parte delantera de la parte retorcida. Llévala por debajo de la parte retorcida, y sácala por donde empezaste. Tira de ambos extremos de la cinta para apretar el nudo. Dobla ambos extremos de la cinta en forma de moño. Cruza el lazo izquierdo sobre el derecho para hacer un lazo más pequeño en el medio. Tira del lazo izquierdo a través del más pequeño, luego tira para apretar. Tómate un tiempo para ajustar los lazos y las colas. Si usaste una cinta con cable, también puedes arreglar los lazos. Para un toque más elegante, corta los extremos de las colas en ángulos o en forma de “v”.\n",
            "Hacer un moño con apariencia de tejido:\n",
            "Corta cuatro pedazos de cinta para usar en la longitud de la caja. Corta cuatro trozos de cinta para usar en el ancho de la caja. Establece el primer conjunto de cintas una al lado de la otra sobre la mesa. Coloca la caja sobre las cintas. Envuelve las cintas alrededor de la caja y asegúralas con cinta adhesiva de doble cara. Asegura el siguiente conjunto de cintas justo encima del primero. Voltea la caja y teje las cintas cortas a través del primer conjunto de cintas. Asegura las cintas en la parte posterior inferior de la caja. Si lo deseas, agrega una decoración en la parte superior.\n",
            "Necesitarás cuatro trozos de cinta que sean lo suficientemente largos como para envolver el largo de la caja, más 5 centímetros (2 pulgadas) adicionales.  Para una apariencia única, considera usar dos piezas de cinta delgada y dos piezas de cinta ligeramente gruesa. También puedes usar dos colores que contrasten. No es una buena idea usar una cinta gruesa o con cable. Usa una cinta fina de satén o de globo para tener mejores resultados. Usa la misma cinta que en el paso anterior. Esta vez, corta la cinta para que sea suficientemente larga como para envolver el ancho de la caja, más 5 centímetros (2 pulgadas). Toma las cuatro cintas largas y ponlas sobre la mesa. Asegúrate de que estén paralelas entre sí y espaciadas a no más de 0,6 centímetros (¼ de pulgada) de distancia. Si usaste diferentes anchos o colores, asegúrate de alternarlos. Coloca el regalo boca abajo sobre las cintas. La caja puede o no puede estar centrada, dependiendo de dónde desees que estén las cintas. Coloca y pega cada una de las cintas de una a una; no pegues todos a la vez. Tira de las cintas firmemente alrededor de la caja para que estén bien colocadas y ceñidas. Los extremos de la cinta se superpondrán entre sí a 2,5 centímetros (1 pulgada) aproximadamente.  Asegúrate de solo pegar la cinta superior sobre la cinta inferior; no pegues las cintas a la caja. También puedes usar puntos de pegamento (puedes encontrarlos en la sección de álbumes de recortes de una tienda de artesanías) en lugar de cinta adhesiva de doble cara. Coloca una tira de cinta de doble cara en el extremo de cada una de las cintas cortas. Coloca las cintas justo encima de la primera cinta larga, así te asegurarás de que los extremos queden perpendiculares a ella. Una vez más, mantén las cintas espaciadas a no más de 0,6 centímetros (¼ de pulgada) de distancia. Tira de las cintas cortas hacia el frente de la caja. Tejemos la primera por encima del primer conjunto de cintas. Teje la siguiente cinta una y otra vez, y así sucesivamente. Continúa tejiendo hasta que hayas tejido las cuatro cintas. Voltea la caja otra vez. Pega una tira de cinta adhesiva de doble cara en el extremo de cada cinta, luego pasa las cintas una a una hacia la parte inferior de la caja. Asegúrate de que los extremos de las cintas coincidan. Para darle un toque más bonito, teje las cintas cortas a través de las cintas largas en la parte inferior, así como lo hiciste en la parte superior. Las cintas tejidas son parte del diseño. Si sientes que le falta algo al regalo, puedes comprar o hacer un moño a juego y luego asegurarlo en la caja. En lugar de cubrir todo el trabajo, coloca el moño hacia un lado para que el tejido sea visible.\n",
            "\n"
          ]
        }
      ]
    },
    {
      "cell_type": "markdown",
      "metadata": {
        "id": "9wkh--Eazb77"
      },
      "source": [
        "Now you can finetune the model using the familiar *fit()* function. Note that\n",
        "`preprocessor` will be automatically called inside `fit` method since\n",
        "`GPT2CausalLM` is a `keras_nlp.models.Task` instance.\n",
        "\n",
        "This step takes quite a bit of GPU memory and a long time if we were to train\n",
        "it all the way to a fully trained state. Here we just use part of the dataset\n",
        "for demo purposes."
      ]
    },
    {
      "cell_type": "code",
      "execution_count": null,
      "metadata": {
        "id": "me-ggq_Tzb77",
        "colab": {
          "base_uri": "https://localhost:8080/"
        },
        "outputId": "20fad94a-5c77-4bfd-e5e0-3cc454661608"
      },
      "outputs": [
        {
          "output_type": "stream",
          "name": "stdout",
          "text": [
            "2\n",
            "1\n",
            "Epoch 3/3\n",
            "1/1 [==============================] - ETA: 0s - loss: 4.7384 - accuracy: 0.1947\n",
            "Epoch 3: saving model to checkpoints/model_03.h5\n",
            "1/1 [==============================] - 26s 26s/step - loss: 4.7384 - accuracy: 0.1947\n",
            "hola\n"
          ]
        }
      ],
      "source": [
        "import tensorflow_datasets as tfds\n",
        "import tensorflow.keras as keras\n",
        "import os\n",
        "from tensorflow.keras.callbacks import ModelCheckpoint\n",
        "\n",
        "# Preparar el conjunto de datos\n",
        "train_ds = (\n",
        "    tf.data.Dataset.from_tensor_slices(paragraphs)\n",
        "    .batch(16)\n",
        "    .cache()\n",
        "    .prefetch(tf.data.AUTOTUNE)\n",
        ")\n",
        "\n",
        "\n",
        "# Definir el número de épocas a 1 para demostración\n",
        "num_epochs = 3\n",
        "\n",
        "# Directorio para guardar los checkpoints\n",
        "checkpoint_dir = \"checkpoints/\"\n",
        "\n",
        "# Callback para guardar checkpoints por epoch\n",
        "checkpoint_callback = ModelCheckpoint(\n",
        "    filepath=os.path.join(checkpoint_dir, \"model_{epoch:02d}.h5\"),\n",
        "    save_freq=\"epoch\",\n",
        "    save_weights_only=True,\n",
        "    save_best_only=False,\n",
        "    verbose=1\n",
        ")\n",
        "\n",
        "# Verificar si hay checkpoints existentes para continuar desde el último\n",
        "checkpoint_files = [file for file in os.listdir(checkpoint_dir) if file.endswith('.h5')]\n",
        "if checkpoint_files:\n",
        "    latest_checkpoint = max(checkpoint_files)\n",
        "    gpt2_lm.load_weights(os.path.join(checkpoint_dir, latest_checkpoint))\n",
        "\n",
        "    # Obtener el número de epoch desde el nombre del archivo de checkpoint\n",
        "    num_epoch_resume = int(latest_checkpoint.split(\"_\")[1].split(\".\")[0])\n",
        "    #num_epochs -= num_epoch_resume  # Restar las épocas ya entrenadas\n",
        "\n",
        "    # Entrenar el modelo\n",
        "    history = gpt2_lm.fit(train_ds, initial_epoch=num_epoch_resume, epochs=num_epochs, callbacks=[checkpoint_callback])\n",
        "    print(\"hola\")\n",
        "else:\n",
        "    # No hay checkpoints existentes, entrenar el modelo desde cero\n",
        "    # Entrenar el modelo\n",
        "    history = gpt2_lm.fit(train_ds, epochs=num_epochs, callbacks=[checkpoint_callback])\n"
      ]
    },
    {
      "cell_type": "markdown",
      "source": [
        "\n",
        "##  Métricas y parámetros para evaluar el rendimiento y la eficiencia durante el entrenamiento.\n",
        "\n",
        "Una vez terminado el entrenamiento podemos visualizar y monitorear el rendimiento del modelo durante el entrenamiento, proporcionando métricas como pérdida, precisión, tasa de aprendizaje y eficiencia computacional."
      ],
      "metadata": {
        "id": "2qY8BXrtv8rG"
      }
    },
    {
      "cell_type": "code",
      "source": [
        "\n",
        "# Obtener las métricas de pérdida, precisión y tasa de aprendizaje durante el entrenamiento\n",
        "loss = history.history['loss']\n",
        "accuracy = history.history['accuracy'] # Reemplaza 'accuracy' con 'weighted_accuracy' si estás utilizando esta métrica\n",
        "learning_rate = np.array([learning_rate(step) for step in range(len(history.epoch))])\n",
        "\n",
        "# Obtener la eficiencia computacional\n",
        "time_per_epoch = history.epoch[-1] / len(history.epoch)  # Tiempo por época\n",
        "efficiency = [time_per_epoch * (i + 1) for i in range(num_epochs)]\n",
        "\n",
        "# Graficar la pérdida, precisión, tasa de aprendizaje y eficiencia\n",
        "epochs = range(1, num_epochs + 1)\n",
        "\n",
        "plt.figure(figsize=(12, 4))\n",
        "\n",
        "plt.subplot(1, 4, 1)\n",
        "plt.plot(epochs, loss, 'b', label='Pérdida')\n",
        "plt.title('Pérdida durante el entrenamiento')\n",
        "plt.xlabel('Épocas')\n",
        "plt.ylabel('Valor')\n",
        "plt.legend()\n",
        "\n",
        "plt.subplot(1, 4, 2)\n",
        "plt.plot(epochs, accuracy, 'r', label='Precisión')\n",
        "plt.title('Precisión durante el entrenamiento')\n",
        "plt.xlabel('Épocas')\n",
        "plt.ylabel('Valor')\n",
        "plt.legend()\n",
        "\n",
        "plt.subplot(1, 4, 3)\n",
        "plt.plot(epochs, learning_rate, 'g', label='Tasa de Aprendizaje')\n",
        "plt.title('Tasa de Aprendizaje durante el entrenamiento')\n",
        "plt.xlabel('Épocas')\n",
        "plt.ylabel('Valor')\n",
        "plt.legend()\n",
        "\n",
        "plt.subplot(1, 4, 4)\n",
        "plt.plot(epochs, efficiency, 'm', label='Eficiencia')\n",
        "plt.title('Eficiencia Computacional durante el entrenamiento')\n",
        "plt.xlabel('Épocas')\n",
        "plt.ylabel('Tiempo (segundos)')\n",
        "plt.legend()\n",
        "\n",
        "plt.tight_layout()\n",
        "plt.show()\n"
      ],
      "metadata": {
        "id": "C50bH5ynv6He",
        "colab": {
          "base_uri": "https://localhost:8080/",
          "height": 357
        },
        "outputId": "05f4c5bc-f030-482b-cb20-57381546b69c"
      },
      "execution_count": null,
      "outputs": [
        {
          "output_type": "error",
          "ename": "TypeError",
          "evalue": "ignored",
          "traceback": [
            "\u001b[0;31m---------------------------------------------------------------------------\u001b[0m",
            "\u001b[0;31mTypeError\u001b[0m                                 Traceback (most recent call last)",
            "\u001b[0;32m<ipython-input-102-188a0678ff68>\u001b[0m in \u001b[0;36m<cell line: 4>\u001b[0;34m()\u001b[0m\n\u001b[1;32m      2\u001b[0m \u001b[0mloss\u001b[0m \u001b[0;34m=\u001b[0m \u001b[0mhistory\u001b[0m\u001b[0;34m.\u001b[0m\u001b[0mhistory\u001b[0m\u001b[0;34m[\u001b[0m\u001b[0;34m'loss'\u001b[0m\u001b[0;34m]\u001b[0m\u001b[0;34m\u001b[0m\u001b[0;34m\u001b[0m\u001b[0m\n\u001b[1;32m      3\u001b[0m \u001b[0maccuracy\u001b[0m \u001b[0;34m=\u001b[0m \u001b[0mhistory\u001b[0m\u001b[0;34m.\u001b[0m\u001b[0mhistory\u001b[0m\u001b[0;34m[\u001b[0m\u001b[0;34m'accuracy'\u001b[0m\u001b[0;34m]\u001b[0m \u001b[0;31m# Reemplaza 'accuracy' con 'weighted_accuracy' si estás utilizando esta métrica\u001b[0m\u001b[0;34m\u001b[0m\u001b[0;34m\u001b[0m\u001b[0m\n\u001b[0;32m----> 4\u001b[0;31m \u001b[0mlearning_rate\u001b[0m \u001b[0;34m=\u001b[0m \u001b[0mnp\u001b[0m\u001b[0;34m.\u001b[0m\u001b[0marray\u001b[0m\u001b[0;34m(\u001b[0m\u001b[0;34m[\u001b[0m\u001b[0mlearning_rate\u001b[0m\u001b[0;34m(\u001b[0m\u001b[0mstep\u001b[0m\u001b[0;34m)\u001b[0m \u001b[0;32mfor\u001b[0m \u001b[0mstep\u001b[0m \u001b[0;32min\u001b[0m \u001b[0mrange\u001b[0m\u001b[0;34m(\u001b[0m\u001b[0mlen\u001b[0m\u001b[0;34m(\u001b[0m\u001b[0mhistory\u001b[0m\u001b[0;34m.\u001b[0m\u001b[0mepoch\u001b[0m\u001b[0;34m)\u001b[0m\u001b[0;34m)\u001b[0m\u001b[0;34m]\u001b[0m\u001b[0;34m)\u001b[0m\u001b[0;34m\u001b[0m\u001b[0;34m\u001b[0m\u001b[0m\n\u001b[0m\u001b[1;32m      5\u001b[0m \u001b[0;34m\u001b[0m\u001b[0m\n\u001b[1;32m      6\u001b[0m \u001b[0;31m# Obtener la eficiencia computacional\u001b[0m\u001b[0;34m\u001b[0m\u001b[0;34m\u001b[0m\u001b[0m\n",
            "\u001b[0;32m<ipython-input-102-188a0678ff68>\u001b[0m in \u001b[0;36m<listcomp>\u001b[0;34m(.0)\u001b[0m\n\u001b[1;32m      2\u001b[0m \u001b[0mloss\u001b[0m \u001b[0;34m=\u001b[0m \u001b[0mhistory\u001b[0m\u001b[0;34m.\u001b[0m\u001b[0mhistory\u001b[0m\u001b[0;34m[\u001b[0m\u001b[0;34m'loss'\u001b[0m\u001b[0;34m]\u001b[0m\u001b[0;34m\u001b[0m\u001b[0;34m\u001b[0m\u001b[0m\n\u001b[1;32m      3\u001b[0m \u001b[0maccuracy\u001b[0m \u001b[0;34m=\u001b[0m \u001b[0mhistory\u001b[0m\u001b[0;34m.\u001b[0m\u001b[0mhistory\u001b[0m\u001b[0;34m[\u001b[0m\u001b[0;34m'accuracy'\u001b[0m\u001b[0;34m]\u001b[0m \u001b[0;31m# Reemplaza 'accuracy' con 'weighted_accuracy' si estás utilizando esta métrica\u001b[0m\u001b[0;34m\u001b[0m\u001b[0;34m\u001b[0m\u001b[0m\n\u001b[0;32m----> 4\u001b[0;31m \u001b[0mlearning_rate\u001b[0m \u001b[0;34m=\u001b[0m \u001b[0mnp\u001b[0m\u001b[0;34m.\u001b[0m\u001b[0marray\u001b[0m\u001b[0;34m(\u001b[0m\u001b[0;34m[\u001b[0m\u001b[0mlearning_rate\u001b[0m\u001b[0;34m(\u001b[0m\u001b[0mstep\u001b[0m\u001b[0;34m)\u001b[0m \u001b[0;32mfor\u001b[0m \u001b[0mstep\u001b[0m \u001b[0;32min\u001b[0m \u001b[0mrange\u001b[0m\u001b[0;34m(\u001b[0m\u001b[0mlen\u001b[0m\u001b[0;34m(\u001b[0m\u001b[0mhistory\u001b[0m\u001b[0;34m.\u001b[0m\u001b[0mepoch\u001b[0m\u001b[0;34m)\u001b[0m\u001b[0;34m)\u001b[0m\u001b[0;34m]\u001b[0m\u001b[0;34m)\u001b[0m\u001b[0;34m\u001b[0m\u001b[0;34m\u001b[0m\u001b[0m\n\u001b[0m\u001b[1;32m      5\u001b[0m \u001b[0;34m\u001b[0m\u001b[0m\n\u001b[1;32m      6\u001b[0m \u001b[0;31m# Obtener la eficiencia computacional\u001b[0m\u001b[0;34m\u001b[0m\u001b[0;34m\u001b[0m\u001b[0m\n",
            "\u001b[0;31mTypeError\u001b[0m: 'numpy.ndarray' object is not callable"
          ]
        }
      ]
    },
    {
      "cell_type": "markdown",
      "metadata": {
        "id": "vWNubPGvzb78"
      },
      "source": [
        "Una vez finalizado el ajuste fino, puedes generar texto nuevamente utilizando la misma función generate(). Esta vez, el texto estará más cerca del estilo de wikihow y la longitud generada será similar a la longitud preestablecida en el conjunto de entrenamiento."
      ]
    },
    {
      "cell_type": "code",
      "execution_count": null,
      "metadata": {
        "id": "0GsZi7DUzb78"
      },
      "outputs": [],
      "source": [
        "start = time.time()\n",
        "\n",
        "\n",
        "output = gpt2_lm.generate(\"Cepilla a tu burro regularmente\", max_length=200)\n",
        "print(\"\\nGPT-2 output:\")\n",
        "print(output)\n",
        "\n",
        "end = time.time()\n",
        "print(f\"TIEMPO TOTAL TRANSCURRIDO: {end - start:.2f}s\")"
      ]
    },
    {
      "cell_type": "markdown",
      "metadata": {
        "id": "eL9KgIgXzb78"
      },
      "source": [
        "## Acerca del Método de Muestreo\n",
        "\n",
        "En KerasNLP, ofrecemos varios métodos de muestreo, como la búsqueda contrastiva, el muestreo Top-K y el muestreo de haz (beam sampling). Por defecto, nuestro `GPT2CausalLM` utiliza el muestreo Top-K, pero puedes elegir tu propio método de muestreo.\n",
        "\n",
        "Al igual que con el optimizador y las funciones de activación, hay dos formas de especificar tu propio muestreador personalizado:\n",
        "\n",
        "- Utilizar un identificador de cadena, como \"greedy\", si deseas utilizar la configuración predeterminada de esta forma.\n",
        "- Pasar una instancia de `keras_nlp.samplers.Sampler`, si deseas utilizar una configuración personalizada de esta forma."
      ]
    },
    {
      "cell_type": "code",
      "execution_count": null,
      "metadata": {
        "id": "bWRmzJBmzb78",
        "colab": {
          "base_uri": "https://localhost:8080/"
        },
        "outputId": "7a8dbb0e-fd80-40c0-a881-09f4829fa08a"
      },
      "outputs": [
        {
          "output_type": "stream",
          "name": "stdout",
          "text": [
            "\n",
            "GPT-2 output:\n",
            "I like basketball, so it's not that I can't play. But I can't just do it. I can't do it in the same way as anybody else.\n",
            "\"But it's not a bad thing. You have to do it in a way that you can't do it without being a bad person. You have to be a bad person, but you have to be a good person, too.\"\n",
            "I don't want to be bad. But I don't want to become a bad person. I don't want to be a person who doesn't play. I don't want to be a bad person.\n",
            "\"I don't want to be bad.\"\n",
            "I don't want to be a bad person.\n",
            "I don't want to be a bad person.\n",
            "And I won't let that happen.\n"
          ]
        },
        {
          "output_type": "stream",
          "name": "stderr",
          "text": [
            "WARNING:tensorflow:5 out of the last 7 calls to <bound method GPT2CausalLM.generate_step of <keras_nlp.src.models.gpt2.gpt2_causal_lm.GPT2CausalLM object at 0x7decaccc12a0>> triggered tf.function retracing. Tracing is expensive and the excessive number of tracings could be due to (1) creating @tf.function repeatedly in a loop, (2) passing tensors with different shapes, (3) passing Python objects instead of tensors. For (1), please define your @tf.function outside of the loop. For (2), @tf.function has reduce_retracing=True option that can avoid unnecessary retracing. For (3), please refer to https://www.tensorflow.org/guide/function#controlling_retracing and https://www.tensorflow.org/api_docs/python/tf/function for  more details.\n"
          ]
        },
        {
          "output_type": "stream",
          "name": "stdout",
          "text": [
            "\n",
            "GPT-2 output:\n",
            "I like basketball. I like to play it. I like to play it. I like to play it. I like to play it. I like to play it. I like to play it. I like to play it. I like to play it. I like to play it. I like to play it. I like to play it. I like to play it. I like to play it. I like to play it. I like to play it. I like to play it. I like to play it. I like to play it. I like to play it. I like to play it. I like to play it. I like to play it. I like to play it. I like to play it. I like to play it. I like to play it. I like to play it. I like to play it. I like to play it. I like to play it. I like to play it. I like to play it. I like to\n"
          ]
        }
      ],
      "source": [
        "# Use a string identifier.\n",
        "gpt2_lm.compile(sampler=\"top_k\")\n",
        "output = gpt2_lm.generate(\"Cepilla a tu burro regularmente\", max_length=200)\n",
        "print(\"\\nGPT-2 output:\")\n",
        "print(output)\n",
        "\n",
        "# Use a `Sampler` instance. `GreedySampler` tends to repeat itself,\n",
        "greedy_sampler = keras_nlp.samplers.GreedySampler()\n",
        "gpt2_lm.compile(sampler=greedy_sampler)\n",
        "\n",
        "output = gpt2_lm.generate(\"Cepilla a tu burro regularmente\", max_length=200)\n",
        "print(\"\\nGPT-2 output:\")\n",
        "print(output)"
      ]
    },
    {
      "cell_type": "markdown",
      "metadata": {
        "id": "QGvtOoQRzb78"
      },
      "source": [
        "Para obtener más detalles sobre la clase `Sampler` de KerasNLP, puedes revisar el código [aquí](https://github.com/keras-team/keras-nlp/tree/master/keras_nlp/samplers)."
      ]
    },
    {
      "cell_type": "markdown",
      "metadata": {
        "id": "jPmGoVk64AuE"
      },
      "source": [
        "## Guarda tu Modelo\n"
      ]
    },
    {
      "cell_type": "markdown",
      "source": [
        "*** Guarda el modelo: Utiliza el método model.save() de Keras para guardar todo el modelo, incluyendo la configuración y los pesos, en un archivo. Especifica una ruta y un nombre de archivo para guardar el modelo"
      ],
      "metadata": {
        "id": "d2j2nDXCb5eA"
      }
    },
    {
      "cell_type": "code",
      "source": [
        "model.save(\"saved_model_h5/model.h5\")"
      ],
      "metadata": {
        "id": "56ovHweLb4qk"
      },
      "execution_count": null,
      "outputs": []
    },
    {
      "cell_type": "markdown",
      "source": [
        " Si estás trabajando principalmente con TensorFlow y planeas utilizar el modelo en otros proyectos o plataformas compatibles con SavedModel, entonces tf.saved_model.save() puede ser más conveniente."
      ],
      "metadata": {
        "id": "CcL8nILicdH9"
      }
    },
    {
      "cell_type": "code",
      "source": [
        "saved_model_dir = \"saved_model/\"\n",
        "tf.saved_model.save(gpt2_lm, saved_model_dir)"
      ],
      "metadata": {
        "id": "SUskIFtacmZQ"
      },
      "execution_count": null,
      "outputs": []
    }
  ],
  "metadata": {
    "accelerator": "GPU",
    "colab": {
      "provenance": [],
      "toc_visible": true,
      "include_colab_link": true
    },
    "kernelspec": {
      "display_name": "Python 3",
      "language": "python",
      "name": "python3"
    },
    "language_info": {
      "codemirror_mode": {
        "name": "ipython",
        "version": 3
      },
      "file_extension": ".py",
      "mimetype": "text/x-python",
      "name": "python",
      "nbconvert_exporter": "python",
      "pygments_lexer": "ipython3",
      "version": "3.7.0"
    }
  },
  "nbformat": 4,
  "nbformat_minor": 0
}